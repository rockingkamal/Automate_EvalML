{
  "cells": [
    {
      "cell_type": "markdown",
      "metadata": {
        "id": "view-in-github",
        "colab_type": "text"
      },
      "source": [
        "<a href=\"https://colab.research.google.com/github/rockingkamal/Automate_EvalML/blob/main/AUTOMATE_NLP_EvalML.ipynb\" target=\"_parent\"><img src=\"https://colab.research.google.com/assets/colab-badge.svg\" alt=\"Open In Colab\"/></a>"
      ]
    },
    {
      "cell_type": "markdown",
      "source": [
        "Reference article:\n",
        "\n",
        "https://www.analyticsvidhya.com/blog/2021/04/automate-nlp-tasks-using-evalml-library/?utm_source=reading_list&utm_medium=https://www.analyticsvidhya.com/blog/2021/12/creating-chatbot-building-using-python/*italicized\n",
        "\n",
        "text*"
      ],
      "metadata": {
        "id": "PwjlJJRLxCZR"
      },
      "id": "PwjlJJRLxCZR"
    },
    {
      "cell_type": "markdown",
      "id": "qualified-vienna",
      "metadata": {
        "id": "qualified-vienna"
      },
      "source": [
        "# Automate NLP Tasks using EvalML Library\n"
      ]
    },
    {
      "cell_type": "raw",
      "id": "vocal-arnold",
      "metadata": {
        "id": "vocal-arnold"
      },
      "source": [
        "What is EvalML?\n",
        "it's an autoML library that builds, optimise & evaluates machine learning pipelines using domain specific objective functions.\n",
        "it actually avoids traning and tunning of models by hand, it automates everything.\n",
        "Internally it uses data tables, which are 20X faster than data frames.\n",
        "Internally it constructs multiple pipelines that include state-of-the-art preprocessing, feature engineering, feature selection, & a varety of modeling techniques."
      ]
    },
    {
      "cell_type": "code",
      "execution_count": null,
      "id": "least-gravity",
      "metadata": {
        "id": "least-gravity"
      },
      "outputs": [],
      "source": [
        "#pip install evalml   ---- (comment if already installed)\n",
        "#pip install \"evalml[updater]\"   --- (optional)"
      ]
    },
    {
      "cell_type": "code",
      "execution_count": 10,
      "id": "dangerous-might",
      "metadata": {
        "id": "dangerous-might"
      },
      "outputs": [],
      "source": [
        "#!pip install evalml"
      ]
    },
    {
      "cell_type": "code",
      "source": [
        "# importing urllib.request to import dataset from hyperlink\n",
        "from urllib.request import urlopen\n",
        "import pandas as pd\n",
        "\n",
        "# storing the csv file in variable\n",
        "input_data = urlopen('https://featurelabs-static.s3.amazonaws.com/spam_text_messages_modified.csv')\n",
        "\n",
        "# reading csv file\n",
        "data = pd.read_csv(input_data)\n",
        "#spam_text_messages_modified.csv\n",
        "data.head()"
      ],
      "metadata": {
        "colab": {
          "base_uri": "https://localhost:8080/",
          "height": 206
        },
        "id": "xshKPE4bptMF",
        "outputId": "4bf39c6c-6c54-4cb1-f4ac-5e805e11032d"
      },
      "id": "xshKPE4bptMF",
      "execution_count": 2,
      "outputs": [
        {
          "output_type": "execute_result",
          "data": {
            "text/plain": [
              "  Category                                            Message\n",
              "0     spam  Free entry in 2 a wkly comp to win FA Cup fina...\n",
              "1     spam  FreeMsg Hey there darling it's been 3 week's n...\n",
              "2     spam  WINNER!! As a valued network customer you have...\n",
              "3     spam  Had your mobile 11 months or more? U R entitle...\n",
              "4     spam  SIX chances to win CASH! From 100 to 20,000 po..."
            ],
            "text/html": [
              "\n",
              "  <div id=\"df-de5963ba-c1d1-458c-ae4a-f77325c3a024\" class=\"colab-df-container\">\n",
              "    <div>\n",
              "<style scoped>\n",
              "    .dataframe tbody tr th:only-of-type {\n",
              "        vertical-align: middle;\n",
              "    }\n",
              "\n",
              "    .dataframe tbody tr th {\n",
              "        vertical-align: top;\n",
              "    }\n",
              "\n",
              "    .dataframe thead th {\n",
              "        text-align: right;\n",
              "    }\n",
              "</style>\n",
              "<table border=\"1\" class=\"dataframe\">\n",
              "  <thead>\n",
              "    <tr style=\"text-align: right;\">\n",
              "      <th></th>\n",
              "      <th>Category</th>\n",
              "      <th>Message</th>\n",
              "    </tr>\n",
              "  </thead>\n",
              "  <tbody>\n",
              "    <tr>\n",
              "      <th>0</th>\n",
              "      <td>spam</td>\n",
              "      <td>Free entry in 2 a wkly comp to win FA Cup fina...</td>\n",
              "    </tr>\n",
              "    <tr>\n",
              "      <th>1</th>\n",
              "      <td>spam</td>\n",
              "      <td>FreeMsg Hey there darling it's been 3 week's n...</td>\n",
              "    </tr>\n",
              "    <tr>\n",
              "      <th>2</th>\n",
              "      <td>spam</td>\n",
              "      <td>WINNER!! As a valued network customer you have...</td>\n",
              "    </tr>\n",
              "    <tr>\n",
              "      <th>3</th>\n",
              "      <td>spam</td>\n",
              "      <td>Had your mobile 11 months or more? U R entitle...</td>\n",
              "    </tr>\n",
              "    <tr>\n",
              "      <th>4</th>\n",
              "      <td>spam</td>\n",
              "      <td>SIX chances to win CASH! From 100 to 20,000 po...</td>\n",
              "    </tr>\n",
              "  </tbody>\n",
              "</table>\n",
              "</div>\n",
              "    <div class=\"colab-df-buttons\">\n",
              "\n",
              "  <div class=\"colab-df-container\">\n",
              "    <button class=\"colab-df-convert\" onclick=\"convertToInteractive('df-de5963ba-c1d1-458c-ae4a-f77325c3a024')\"\n",
              "            title=\"Convert this dataframe to an interactive table.\"\n",
              "            style=\"display:none;\">\n",
              "\n",
              "  <svg xmlns=\"http://www.w3.org/2000/svg\" height=\"24px\" viewBox=\"0 -960 960 960\">\n",
              "    <path d=\"M120-120v-720h720v720H120Zm60-500h600v-160H180v160Zm220 220h160v-160H400v160Zm0 220h160v-160H400v160ZM180-400h160v-160H180v160Zm440 0h160v-160H620v160ZM180-180h160v-160H180v160Zm440 0h160v-160H620v160Z\"/>\n",
              "  </svg>\n",
              "    </button>\n",
              "\n",
              "  <style>\n",
              "    .colab-df-container {\n",
              "      display:flex;\n",
              "      gap: 12px;\n",
              "    }\n",
              "\n",
              "    .colab-df-convert {\n",
              "      background-color: #E8F0FE;\n",
              "      border: none;\n",
              "      border-radius: 50%;\n",
              "      cursor: pointer;\n",
              "      display: none;\n",
              "      fill: #1967D2;\n",
              "      height: 32px;\n",
              "      padding: 0 0 0 0;\n",
              "      width: 32px;\n",
              "    }\n",
              "\n",
              "    .colab-df-convert:hover {\n",
              "      background-color: #E2EBFA;\n",
              "      box-shadow: 0px 1px 2px rgba(60, 64, 67, 0.3), 0px 1px 3px 1px rgba(60, 64, 67, 0.15);\n",
              "      fill: #174EA6;\n",
              "    }\n",
              "\n",
              "    .colab-df-buttons div {\n",
              "      margin-bottom: 4px;\n",
              "    }\n",
              "\n",
              "    [theme=dark] .colab-df-convert {\n",
              "      background-color: #3B4455;\n",
              "      fill: #D2E3FC;\n",
              "    }\n",
              "\n",
              "    [theme=dark] .colab-df-convert:hover {\n",
              "      background-color: #434B5C;\n",
              "      box-shadow: 0px 1px 3px 1px rgba(0, 0, 0, 0.15);\n",
              "      filter: drop-shadow(0px 1px 2px rgba(0, 0, 0, 0.3));\n",
              "      fill: #FFFFFF;\n",
              "    }\n",
              "  </style>\n",
              "\n",
              "    <script>\n",
              "      const buttonEl =\n",
              "        document.querySelector('#df-de5963ba-c1d1-458c-ae4a-f77325c3a024 button.colab-df-convert');\n",
              "      buttonEl.style.display =\n",
              "        google.colab.kernel.accessAllowed ? 'block' : 'none';\n",
              "\n",
              "      async function convertToInteractive(key) {\n",
              "        const element = document.querySelector('#df-de5963ba-c1d1-458c-ae4a-f77325c3a024');\n",
              "        const dataTable =\n",
              "          await google.colab.kernel.invokeFunction('convertToInteractive',\n",
              "                                                    [key], {});\n",
              "        if (!dataTable) return;\n",
              "\n",
              "        const docLinkHtml = 'Like what you see? Visit the ' +\n",
              "          '<a target=\"_blank\" href=https://colab.research.google.com/notebooks/data_table.ipynb>data table notebook</a>'\n",
              "          + ' to learn more about interactive tables.';\n",
              "        element.innerHTML = '';\n",
              "        dataTable['output_type'] = 'display_data';\n",
              "        await google.colab.output.renderOutput(dataTable, element);\n",
              "        const docLink = document.createElement('div');\n",
              "        docLink.innerHTML = docLinkHtml;\n",
              "        element.appendChild(docLink);\n",
              "      }\n",
              "    </script>\n",
              "  </div>\n",
              "\n",
              "\n",
              "<div id=\"df-e977a8f0-e429-4788-96f3-6feb7371e0bd\">\n",
              "  <button class=\"colab-df-quickchart\" onclick=\"quickchart('df-e977a8f0-e429-4788-96f3-6feb7371e0bd')\"\n",
              "            title=\"Suggest charts.\"\n",
              "            style=\"display:none;\">\n",
              "\n",
              "<svg xmlns=\"http://www.w3.org/2000/svg\" height=\"24px\"viewBox=\"0 0 24 24\"\n",
              "     width=\"24px\">\n",
              "    <g>\n",
              "        <path d=\"M19 3H5c-1.1 0-2 .9-2 2v14c0 1.1.9 2 2 2h14c1.1 0 2-.9 2-2V5c0-1.1-.9-2-2-2zM9 17H7v-7h2v7zm4 0h-2V7h2v10zm4 0h-2v-4h2v4z\"/>\n",
              "    </g>\n",
              "</svg>\n",
              "  </button>\n",
              "\n",
              "<style>\n",
              "  .colab-df-quickchart {\n",
              "      --bg-color: #E8F0FE;\n",
              "      --fill-color: #1967D2;\n",
              "      --hover-bg-color: #E2EBFA;\n",
              "      --hover-fill-color: #174EA6;\n",
              "      --disabled-fill-color: #AAA;\n",
              "      --disabled-bg-color: #DDD;\n",
              "  }\n",
              "\n",
              "  [theme=dark] .colab-df-quickchart {\n",
              "      --bg-color: #3B4455;\n",
              "      --fill-color: #D2E3FC;\n",
              "      --hover-bg-color: #434B5C;\n",
              "      --hover-fill-color: #FFFFFF;\n",
              "      --disabled-bg-color: #3B4455;\n",
              "      --disabled-fill-color: #666;\n",
              "  }\n",
              "\n",
              "  .colab-df-quickchart {\n",
              "    background-color: var(--bg-color);\n",
              "    border: none;\n",
              "    border-radius: 50%;\n",
              "    cursor: pointer;\n",
              "    display: none;\n",
              "    fill: var(--fill-color);\n",
              "    height: 32px;\n",
              "    padding: 0;\n",
              "    width: 32px;\n",
              "  }\n",
              "\n",
              "  .colab-df-quickchart:hover {\n",
              "    background-color: var(--hover-bg-color);\n",
              "    box-shadow: 0 1px 2px rgba(60, 64, 67, 0.3), 0 1px 3px 1px rgba(60, 64, 67, 0.15);\n",
              "    fill: var(--button-hover-fill-color);\n",
              "  }\n",
              "\n",
              "  .colab-df-quickchart-complete:disabled,\n",
              "  .colab-df-quickchart-complete:disabled:hover {\n",
              "    background-color: var(--disabled-bg-color);\n",
              "    fill: var(--disabled-fill-color);\n",
              "    box-shadow: none;\n",
              "  }\n",
              "\n",
              "  .colab-df-spinner {\n",
              "    border: 2px solid var(--fill-color);\n",
              "    border-color: transparent;\n",
              "    border-bottom-color: var(--fill-color);\n",
              "    animation:\n",
              "      spin 1s steps(1) infinite;\n",
              "  }\n",
              "\n",
              "  @keyframes spin {\n",
              "    0% {\n",
              "      border-color: transparent;\n",
              "      border-bottom-color: var(--fill-color);\n",
              "      border-left-color: var(--fill-color);\n",
              "    }\n",
              "    20% {\n",
              "      border-color: transparent;\n",
              "      border-left-color: var(--fill-color);\n",
              "      border-top-color: var(--fill-color);\n",
              "    }\n",
              "    30% {\n",
              "      border-color: transparent;\n",
              "      border-left-color: var(--fill-color);\n",
              "      border-top-color: var(--fill-color);\n",
              "      border-right-color: var(--fill-color);\n",
              "    }\n",
              "    40% {\n",
              "      border-color: transparent;\n",
              "      border-right-color: var(--fill-color);\n",
              "      border-top-color: var(--fill-color);\n",
              "    }\n",
              "    60% {\n",
              "      border-color: transparent;\n",
              "      border-right-color: var(--fill-color);\n",
              "    }\n",
              "    80% {\n",
              "      border-color: transparent;\n",
              "      border-right-color: var(--fill-color);\n",
              "      border-bottom-color: var(--fill-color);\n",
              "    }\n",
              "    90% {\n",
              "      border-color: transparent;\n",
              "      border-bottom-color: var(--fill-color);\n",
              "    }\n",
              "  }\n",
              "</style>\n",
              "\n",
              "  <script>\n",
              "    async function quickchart(key) {\n",
              "      const quickchartButtonEl =\n",
              "        document.querySelector('#' + key + ' button');\n",
              "      quickchartButtonEl.disabled = true;  // To prevent multiple clicks.\n",
              "      quickchartButtonEl.classList.add('colab-df-spinner');\n",
              "      try {\n",
              "        const charts = await google.colab.kernel.invokeFunction(\n",
              "            'suggestCharts', [key], {});\n",
              "      } catch (error) {\n",
              "        console.error('Error during call to suggestCharts:', error);\n",
              "      }\n",
              "      quickchartButtonEl.classList.remove('colab-df-spinner');\n",
              "      quickchartButtonEl.classList.add('colab-df-quickchart-complete');\n",
              "    }\n",
              "    (() => {\n",
              "      let quickchartButtonEl =\n",
              "        document.querySelector('#df-e977a8f0-e429-4788-96f3-6feb7371e0bd button');\n",
              "      quickchartButtonEl.style.display =\n",
              "        google.colab.kernel.accessAllowed ? 'block' : 'none';\n",
              "    })();\n",
              "  </script>\n",
              "</div>\n",
              "    </div>\n",
              "  </div>\n"
            ]
          },
          "metadata": {},
          "execution_count": 2
        }
      ]
    },
    {
      "cell_type": "raw",
      "id": "square-international",
      "metadata": {
        "id": "square-international"
      },
      "source": [
        "Finally, we read the data from the CSV file, now we develop a model with the help of EvalML and analyze the best model for our problem statement.\n",
        "Here there is no need to do text featurization manually, all things will be automatically performed by EvalML.\n",
        "Now let’s divide our dataset into dependent and independent features."
      ]
    },
    {
      "cell_type": "code",
      "execution_count": 3,
      "id": "dependent-yorkshire",
      "metadata": {
        "id": "dependent-yorkshire"
      },
      "outputs": [],
      "source": [
        "# Seperating our dataset into Independent And Dependent Features\n",
        "x = data.drop('Category', axis=1)\n",
        "y = data['Category']"
      ]
    },
    {
      "cell_type": "code",
      "execution_count": 4,
      "id": "graduate-fisher",
      "metadata": {
        "colab": {
          "base_uri": "https://localhost:8080/"
        },
        "id": "graduate-fisher",
        "outputId": "96423276-aec6-46ee-ac21-f5b9b1aa8db5"
      },
      "outputs": [
        {
          "output_type": "execute_result",
          "data": {
            "text/plain": [
              "ham     0.750084\n",
              "spam    0.249916\n",
              "Name: Category, dtype: float64"
            ]
          },
          "metadata": {},
          "execution_count": 4
        }
      ],
      "source": [
        "#check out dataset is balanced or not\n",
        "y.value_counts(normalize=True)"
      ]
    },
    {
      "cell_type": "code",
      "execution_count": 10,
      "id": "behind-raise",
      "metadata": {
        "id": "behind-raise"
      },
      "outputs": [],
      "source": [
        "import evalml\n",
        "\n",
        "#Split the dataset into traning and testing part using evalml, here we have to mention problem_type,what kind of problem actually we are trying to solve\n",
        "x_train, x_test, y_train, y_test = evalml.preprocessing.split_data(x,y,problem_type='binary')\n"
      ]
    },
    {
      "cell_type": "code",
      "execution_count": 9,
      "id": "weird-surprise",
      "metadata": {
        "id": "weird-surprise"
      },
      "outputs": [],
      "source": [
        "# printing all problem statement available in evalml library.\n",
        "evalml.problem_types.ProblemTypes.all_problem_types"
      ]
    },
    {
      "cell_type": "markdown",
      "source": [
        "Let’s perform the Automated EvalML task and check out the best suitable model for our problem statement :\n"
      ],
      "metadata": {
        "id": "vU3ADISZv0Kh"
      },
      "id": "vU3ADISZv0Kh"
    },
    {
      "cell_type": "code",
      "source": [
        "# Search best suitable algorithm for our problem statement\n",
        "automl = AutoMLSearch(X_train=X_train,y_train=y_train,problem_type='binary',max_batches=1,optimize_thresholds=True)\n",
        "automl.search()"
      ],
      "metadata": {
        "id": "uYO_-Nqlt-kR"
      },
      "id": "uYO_-Nqlt-kR",
      "execution_count": null,
      "outputs": []
    },
    {
      "cell_type": "markdown",
      "source": [
        "Let’s get the best model based on accuracy and various objectives :\n"
      ],
      "metadata": {
        "id": "hjJII-lHwMmB"
      },
      "id": "hjJII-lHwMmB"
    },
    {
      "cell_type": "code",
      "source": [
        "# return a table showing different models based on their ranking\n",
        "automl.rankings"
      ],
      "metadata": {
        "id": "RLj-6GcywI4v"
      },
      "id": "RLj-6GcywI4v",
      "execution_count": null,
      "outputs": []
    },
    {
      "cell_type": "markdown",
      "source": [
        "Let’s describe our best pipeline in details :\n"
      ],
      "metadata": {
        "id": "cL2pCJuJwWfj"
      },
      "id": "cL2pCJuJwWfj"
    },
    {
      "cell_type": "code",
      "source": [
        "# describe best pipeline in more detail.\n",
        "automl.describe_pipeline(automl.rankings.iloc[0][\"id\"])"
      ],
      "metadata": {
        "id": "79Y6I9AowI7W"
      },
      "id": "79Y6I9AowI7W",
      "execution_count": null,
      "outputs": []
    },
    {
      "cell_type": "markdown",
      "source": [
        "Let’s evaluate test data using the best model :\n"
      ],
      "metadata": {
        "id": "APhvN0WWwk8Z"
      },
      "id": "APhvN0WWwk8Z"
    },
    {
      "cell_type": "code",
      "source": [
        "# evalute test data\n",
        "scores = best_pipeline.score(X_test, y_test,  objectives=evalml.objectives.get_core_objectives('binary'))\n",
        "print(f'Accuracy Binary: {scores[\"Accuracy Binary\"]}')"
      ],
      "metadata": {
        "id": "R5PwKQO-wI-P"
      },
      "id": "R5PwKQO-wI-P",
      "execution_count": null,
      "outputs": []
    },
    {
      "cell_type": "code",
      "source": [
        "# save the model in model.pkl file.\n",
        "best_pipeline.save(\"model.pkl\")"
      ],
      "metadata": {
        "id": "VK1NItnDw1ny"
      },
      "id": "VK1NItnDw1ny",
      "execution_count": null,
      "outputs": []
    }
  ],
  "metadata": {
    "kernelspec": {
      "display_name": "Python 3",
      "language": "python",
      "name": "python3"
    },
    "language_info": {
      "codemirror_mode": {
        "name": "ipython",
        "version": 3
      },
      "file_extension": ".py",
      "mimetype": "text/x-python",
      "name": "python",
      "nbconvert_exporter": "python",
      "pygments_lexer": "ipython3",
      "version": "3.8.2"
    },
    "colab": {
      "provenance": [],
      "include_colab_link": true
    }
  },
  "nbformat": 4,
  "nbformat_minor": 5
}